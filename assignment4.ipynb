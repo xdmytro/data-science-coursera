{
 "cells": [
  {
   "cell_type": "markdown",
   "metadata": {
    "deletable": false,
    "editable": false,
    "nbgrader": {
     "checksum": "48770f8b5f5d3062d3badd51fcafc401",
     "grade": false,
     "grade_id": "cell-a6c4f74309fc2379",
     "locked": true,
     "schema_version": 1,
     "solution": false
    }
   },
   "source": [
    "# Assignment 4\n",
    "## Description\n",
    "In this assignment you must read in a file of metropolitan regions and associated sports teams from [assets/wikipedia_data.html](assets/wikipedia_data.html) and answer some questions about each metropolitan region. Each of these regions may have one or more teams from the \"Big 4\": NFL (football, in [assets/nfl.csv](assets/nfl.csv)), MLB (baseball, in [assets/mlb.csv](assets/mlb.csv)), NBA (basketball, in [assets/nba.csv](assets/nba.csv) or NHL (hockey, in [assets/nhl.csv](assets/nhl.csv)). Please keep in mind that all questions are from the perspective of the metropolitan region, and that this file is the \"source of authority\" for the location of a given sports team. Thus teams which are commonly known by a different area (e.g. \"Oakland Raiders\") need to be mapped into the metropolitan region given (e.g. San Francisco Bay Area). This will require some human data understanding outside of the data you've been given (e.g. you will have to hand-code some names, and might need to google to find out where teams are)!\n",
    "\n",
    "For each sport I would like you to answer the question: **what is the win/loss ratio's correlation with the population of the city it is in?** Win/Loss ratio refers to the number of wins over the number of wins plus the number of losses. Remember that to calculate the correlation with [`pearsonr`](https://docs.scipy.org/doc/scipy/reference/generated/scipy.stats.pearsonr.html), so you are going to send in two ordered lists of values, the populations from the wikipedia_data.html file and the win/loss ratio for a given sport in the same order. Average the win/loss ratios for those cities which have multiple teams of a single sport. Each sport is worth an equal amount in this assignment (20%\\*4=80%) of the grade for this assignment. You should only use data **from year 2018** for your analysis -- this is important!\n",
    "\n",
    "## Notes\n",
    "\n",
    "1. Do not include data about the MLS or CFL in any of the work you are doing, we're only interested in the Big 4 in this assignment.\n",
    "2. I highly suggest that you first tackle the four correlation questions in order, as they are all similar and worth the majority of grades for this assignment. This is by design!\n",
    "3. It's fair game to talk with peers about high level strategy as well as the relationship between metropolitan areas and sports teams. However, do not post code solving aspects of the assignment (including such as dictionaries mapping areas to teams, or regexes which will clean up names).\n",
    "4. There may be more teams than the assert statements test, remember to collapse multiple teams in one city into a single value!"
   ]
  },
  {
   "cell_type": "markdown",
   "metadata": {
    "deletable": false,
    "editable": false,
    "nbgrader": {
     "checksum": "369ff9ecf0ee04640574205cbc697f94",
     "grade": false,
     "grade_id": "cell-712b2b5da63d4505",
     "locked": true,
     "schema_version": 1,
     "solution": false
    }
   },
   "source": [
    "## Question 1\n",
    "For this question, calculate the win/loss ratio's correlation with the population of the city it is in for the **NHL** using **2018** data."
   ]
  },
  {
   "cell_type": "code",
   "execution_count": 3,
   "metadata": {},
   "outputs": [
    {
     "data": {
      "image/png": "[encoded data removed]",
      "text/plain": [
       "<Figure size 432x288 with 1 Axes>"
      ]
     },
     "metadata": {
      "needs_background": "light"
     },
     "output_type": "display_data"
    }
   ],
   "source": [
    "import pandas as pd\n",
    "import numpy as np\n",
    "import scipy.stats as stats\n",
    "import re\n",
    "from io import StringIO\n",
    "\n",
    "pd.set_option('display.max_rows', 200)\n",
    "\n",
    "\n",
    "def read_html(filename):\n",
    "    str = \"\"\n",
    "    with open(filename, encoding=\"utf8\") as file:\n",
    "        str = file.read()\n",
    "    str = re.sub(r\"<a href=\\\"[^\\\"]*\\\" title=\\\"([^\\\"]*)\\\">[^<]*</a>\", r\"\\1;\", str)\n",
    "    return pd.read_html(StringIO(str))\n",
    "\n",
    "def read_cities():\n",
    "    cities=read_html(\"assets/wikipedia_data.html\")[1]\n",
    "    cities=cities.iloc[:-1,[0,3,5,6,7,8]]\n",
    "    cities.rename(columns = {'Population (2016 est.)[8]' : 'Population'}, inplace=True)\n",
    "    cols = ['NFL','MLB','NBA','NHL']\n",
    "    cities[cols] = cities[cols].apply(lambda x : x.apply(lambda y: y.split('[')[0]))\n",
    "    cities[cols] = cities[cols].apply(lambda x : x.apply(lambda y: y if len(y)>2 else ''))\n",
    "    return cities\n",
    "\n",
    "def read_csv(filename):\n",
    "    str = \"\"\n",
    "    with open(filename) as file:\n",
    "        for line in file:\n",
    "            c = line.split(',')\n",
    "            if re.sub(r\"[^a-zA-Z0-9.]\",\"\",c[0]) != re.sub(r\"[^a-zA-Z]\",\"\",c[1]):\n",
    "                str += line + '\\n'\n",
    "    return pd.read_csv(StringIO(str))\n",
    "\n",
    "def cleanup_team(df):\n",
    "    df.drop(labels=df.columns.difference(['team','W','L','year','League']), axis=1, inplace=True)\n",
    "    df['team'] = df['team'].apply(lambda x: re.sub(r\"[^a-zA-Z ]*$\", \"\", x))\n",
    "    \n",
    "def calc_wl(df):\n",
    "    df['W/L']=df['W']/(df['W']+df['L'])\n",
    "    return df\n",
    "\n",
    "def read_nhl():\n",
    "    df = read_csv(\"assets/nhl.csv\")\n",
    "    cleanup_team(df)\n",
    "    return df\n",
    "\n",
    "def read_nfl():\n",
    "    df = read_csv(\"assets/nfl.csv\")    \n",
    "    cleanup_team(df)\n",
    "    return df\n",
    "\n",
    "def read_mlb():\n",
    "    df = read_csv(\"assets/mlb.csv\")    \n",
    "    cleanup_team(df)\n",
    "    return df\n",
    "\n",
    "def read_nba():\n",
    "    df = read_csv(\"assets/nba.csv\")    \n",
    "    cleanup_team(df)\n",
    "    return df\n",
    "\n",
    "def trans_cities(cities):\n",
    "    cities.rename(columns={\"Metropolitan area;\":\"Metropolitan area\"}, inplace=True)\n",
    "    cities[\"Metropolitan area\"] = cities[\"Metropolitan area\"].apply(lambda x: x[0:len(x)-1])\n",
    "    citiest = pd.melt(cities, id_vars=['Metropolitan area','Population'])\n",
    "    citiest.rename(columns={\"variable\":\"League\"}, inplace=True)\n",
    "    teams = citiest['value'].apply(lambda x: np.append(x.split(';'),np.full(9, fill_value=None))[0:9])\n",
    "    citiest = pd.concat([citiest, pd.DataFrame.from_records(teams.values, teams.index)], axis=1)\n",
    "    citiest.drop(columns=['value'], inplace=True)\n",
    "    citiest = pd.melt(citiest, id_vars=['Metropolitan area','Population','League'])\n",
    "    citiest['value']=citiest['value'].apply(lambda x: x if x == None or len(x.strip()) != 0 else None)\n",
    "    citiest.rename(columns={\"value\":\"team\"}, inplace=True)\n",
    "    citiest.drop(columns=['variable'], inplace=True)\n",
    "    citiest.dropna(inplace=True)\n",
    "    citiest['Population'] = pd.to_numeric(citiest['Population'])\n",
    "    return citiest\n",
    "\n",
    "def fix(cities2, nhl, nfl, mlb, nba):\n",
    "    cities2.loc[cities2['team']=='Texas Rangers (baseball)','team'] = 'Texas Rangers'\n",
    "    nhl.loc[nhl['team']=='Phoenix Coyotes','team'] = 'Arizona Coyotes'\n",
    "    nfl.loc[nfl['team']=='San Diego Chargers','team'] = 'Los Angeles Chargers'\n",
    "    nfl.loc[nfl['team']=='St. Louis Rams','team'] = 'Los Angeles Rams'\n",
    "    mlb.loc[mlb['team']=='Los Angeles Angels of Anaheim','team'] = 'Los Angeles Angels'\n",
    "    nba.loc[nba['team']=='Charlotte Bobcats','team'] = 'Charlotte Hornets'\n",
    "\n",
    "def validate(cities2, nhl, nfl, mlb, nba):\n",
    "    #1\n",
    "    assert len(cities2), len((cities2['League']+cities2['team']).unique())\n",
    "    #2\n",
    "    s = set(nhl['team'].unique())|set(nfl['team'].unique())|set(mlb['team'].unique())|set(nba['team'].unique())\n",
    "    w = set(cities2['team'])\n",
    "    if len(s.symmetric_difference(w))!=0:\n",
    "        print(s.symmetric_difference(w))\n",
    "    assert len(s.symmetric_difference(w))==0\n",
    "    #3\n",
    "    assert nhl.dtypes['team'] == 'object' and nhl.dtypes['W'] == 'int64' and nhl.dtypes['L'] == 'int64' and nhl.dtypes['year'] == 'int64' and nhl.dtypes['League'] == 'object'\n",
    "    assert nfl.dtypes['team'] == 'object' and nfl.dtypes['W'] == 'int64' and nfl.dtypes['L'] == 'int64' and nfl.dtypes['year'] == 'int64' and nfl.dtypes['League'] == 'object'\n",
    "    assert mlb.dtypes['team'] == 'object' and mlb.dtypes['W'] == 'int64' and mlb.dtypes['L'] == 'int64' and mlb.dtypes['year'] == 'int64' and mlb.dtypes['League'] == 'object'\n",
    "    assert nba.dtypes['team'] == 'object' and nba.dtypes['W'] == 'int64' and nba.dtypes['L'] == 'int64' and nba.dtypes['year'] == 'int64' and nhl.dtypes['League'] == 'object'\n",
    "    return 'ok'\n",
    "\n",
    "def lookup(cities2, df):\n",
    "    return pd.merge(cities2, df, how='inner', left_on=['League','team'], right_on=['League','team'])\n",
    "\n",
    "def prep():\n",
    "    global nhl, nfl, mlb, nba, cities2\n",
    "    nhl = read_nhl()\n",
    "    nfl = read_nfl()\n",
    "    mlb = read_mlb()\n",
    "    nba = read_nba()\n",
    "    cities = read_cities()\n",
    "    cities2 = trans_cities(cities)\n",
    "    fix(cities2, nhl, nfl, mlb, nba)\n",
    "    validate(cities2, nhl, nfl, mlb, nba)\n",
    "    nhl = lookup(cities2, nhl)\n",
    "    nfl = lookup(cities2, nfl)\n",
    "    mlb = lookup(cities2, mlb)\n",
    "    nba = lookup(cities2, nba)\n",
    "    \n",
    "def calc(df):\n",
    "    calc_wl(df)\n",
    "    df = df[df['year']==2018].drop(columns=['year','team','W','L']).groupby(['Metropolitan area','Population','League'], as_index=False).agg('mean')\n",
    "    return df\n",
    "\n",
    "import matplotlib as plt\n",
    "%matplotlib inline\n",
    "\n",
    "def plot9(df):\n",
    "    df = calc(df)\n",
    "    df.plot(x='Population', y='W/L', kind='scatter')\n",
    "\n",
    "prep()\n",
    "plot9(mlb)"
   ]
  },
  {
   "cell_type": "code",
   "execution_count": 5,
   "metadata": {
    "deletable": false,
    "nbgrader": {
     "checksum": "1cac4803b02502929f5b1612d48db2b5",
     "grade": false,
     "grade_id": "cell-69b16e4386e58030",
     "locked": false,
     "schema_version": 1,
     "solution": true
    }
   },
   "outputs": [
    {
     "data": {
      "text/plain": [
       "(0.012486162921209886, 0.9497182859911791)"
      ]
     },
     "execution_count": 5,
     "metadata": {},
     "output_type": "execute_result"
    }
   ],
   "source": [
    "prep()\n",
    "\n",
    "def nhl_correlation(): \n",
    "    df=calc(nhl)\n",
    "    \n",
    "    population_by_region = df['Population'] \n",
    "    win_loss_by_region = df['W/L'] \n",
    "\n",
    "    assert len(population_by_region) == len(win_loss_by_region), \"Q1: Your lists must be the same length\"\n",
    "    assert len(population_by_region) == 28, \"Q1: There should be 28 teams being analysed for NHL\"\n",
    "    \n",
    "    return stats.pearsonr(population_by_region, win_loss_by_region)[0]"
   ]
  },
  {
   "cell_type": "code",
   "execution_count": null,
   "metadata": {
    "deletable": false,
    "editable": false,
    "nbgrader": {
     "checksum": "52a581df513c71153e105b93764cda4b",
     "grade": true,
     "grade_id": "cell-ebe0b2dfe1067e63",
     "locked": true,
     "points": 20,
     "schema_version": 1,
     "solution": false
    }
   },
   "outputs": [],
   "source": []
  },
  {
   "cell_type": "markdown",
   "metadata": {
    "deletable": false,
    "editable": false,
    "nbgrader": {
     "checksum": "988912cae4968d81473f46d783e79c16",
     "grade": false,
     "grade_id": "cell-cb964e690298b71d",
     "locked": true,
     "schema_version": 1,
     "solution": false
    }
   },
   "source": [
    "## Question 2\n",
    "For this question, calculate the win/loss ratio's correlation with the population of the city it is in for the **NBA** using **2018** data."
   ]
  },
  {
   "cell_type": "code",
   "execution_count": null,
   "metadata": {
    "deletable": false,
    "nbgrader": {
     "checksum": "9394222aafc8ccab0a228098ba0d6010",
     "grade": false,
     "grade_id": "cell-5a5f21279e3d3572",
     "locked": false,
     "schema_version": 1,
     "solution": true
    }
   },
   "outputs": [],
   "source": [
    "prep()\n",
    "\n",
    "def nba_correlation():\n",
    "    df = calc(nba)\n",
    "    \n",
    "    population_by_region = df['Population']\n",
    "    win_loss_by_region = df['W/L'] \n",
    "\n",
    "    assert len(population_by_region) == len(win_loss_by_region), \"Q2: Your lists must be the same length\"\n",
    "    assert len(population_by_region) == 28, \"Q2: There should be 28 teams being analysed for NBA\"\n",
    "\n",
    "    return stats.pearsonr(population_by_region, win_loss_by_region)[0]"
   ]
  },
  {
   "cell_type": "code",
   "execution_count": null,
   "metadata": {
    "deletable": false,
    "editable": false,
    "nbgrader": {
     "checksum": "bbdeb8eb22f525a34c10dc8798324e42",
     "grade": true,
     "grade_id": "cell-e573b2b4a282b470",
     "locked": true,
     "points": 20,
     "schema_version": 1,
     "solution": false
    }
   },
   "outputs": [],
   "source": []
  },
  {
   "cell_type": "markdown",
   "metadata": {
    "deletable": false,
    "editable": false,
    "nbgrader": {
     "checksum": "1a1a5809f675ca033086422007cd73bd",
     "grade": false,
     "grade_id": "cell-96e15e4335df78f4",
     "locked": true,
     "schema_version": 1,
     "solution": false
    }
   },
   "source": [
    "## Question 3\n",
    "For this question, calculate the win/loss ratio's correlation with the population of the city it is in for the **MLB** using **2018** data."
   ]
  },
  {
   "cell_type": "code",
   "execution_count": null,
   "metadata": {
    "deletable": false,
    "nbgrader": {
     "checksum": "27e8c0da6c9fa0dffc10488314335b6c",
     "grade": false,
     "grade_id": "cell-33b00fc3f3467b0c",
     "locked": false,
     "schema_version": 1,
     "solution": true
    }
   },
   "outputs": [],
   "source": [
    "prep()\n",
    "\n",
    "def mlb_correlation(): \n",
    "    df = calc(mlb)\n",
    "    \n",
    "    population_by_region = df['Population']\n",
    "    win_loss_by_region = df['W/L'] \n",
    "\n",
    "    assert len(population_by_region) == len(win_loss_by_region), \"Q3: Your lists must be the same length\"\n",
    "    assert len(population_by_region) == 26, \"Q3: There should be 26 teams being analysed for MLB\"\n",
    "\n",
    "    return stats.pearsonr(population_by_region, win_loss_by_region)[0]"
   ]
  },
  {
   "cell_type": "code",
   "execution_count": null,
   "metadata": {
    "deletable": false,
    "editable": false,
    "nbgrader": {
     "checksum": "cda33b094ba19ccc37a481e0dd29e0bc",
     "grade": true,
     "grade_id": "cell-764d4476f425c5a2",
     "locked": true,
     "points": 20,
     "schema_version": 1,
     "solution": false
    }
   },
   "outputs": [],
   "source": []
  },
  {
   "cell_type": "markdown",
   "metadata": {
    "deletable": false,
    "editable": false,
    "nbgrader": {
     "checksum": "6977a6da9ed6d8b7a0b7e37bbeda709b",
     "grade": false,
     "grade_id": "cell-793df6c04dfb126e",
     "locked": true,
     "schema_version": 1,
     "solution": false
    }
   },
   "source": [
    "## Question 4\n",
    "For this question, calculate the win/loss ratio's correlation with the population of the city it is in for the **NFL** using **2018** data."
   ]
  },
  {
   "cell_type": "code",
   "execution_count": null,
   "metadata": {
    "deletable": false,
    "nbgrader": {
     "checksum": "c4914ad1e119278ec2bd567c52640b66",
     "grade": false,
     "grade_id": "cell-8ccebc209aeec8d9",
     "locked": false,
     "schema_version": 1,
     "solution": true
    }
   },
   "outputs": [],
   "source": [
    "prep()\n",
    "\n",
    "def nfl_correlation(): \n",
    "    df = calc(nfl)\n",
    "    \n",
    "    population_by_region = df['Population']\n",
    "    win_loss_by_region = df['W/L'] \n",
    "\n",
    "    assert len(population_by_region) == len(win_loss_by_region), \"Q4: Your lists must be the same length\"\n",
    "    assert len(population_by_region) == 29, \"Q4: There should be 29 teams being analysed for NFL\"\n",
    "\n",
    "    return stats.pearsonr(population_by_region, win_loss_by_region)[0]"
   ]
  },
  {
   "cell_type": "code",
   "execution_count": null,
   "metadata": {
    "deletable": false,
    "editable": false,
    "nbgrader": {
     "checksum": "e9415d6399aa49e3a1a60813afdefa3b",
     "grade": true,
     "grade_id": "cell-de7b148b9554dbda",
     "locked": true,
     "points": 20,
     "schema_version": 1,
     "solution": false
    }
   },
   "outputs": [],
   "source": []
  },
  {
   "cell_type": "markdown",
   "metadata": {
    "deletable": false,
    "editable": false,
    "nbgrader": {
     "checksum": "b02d5cd3273f561e4ae939bb2a41740c",
     "grade": false,
     "grade_id": "cell-97b49d8639e908c4",
     "locked": true,
     "schema_version": 1,
     "solution": false
    }
   },
   "source": [
    "## Question 5\n",
    "In this question I would like you to explore the hypothesis that **given that an area has two sports teams in different sports, those teams will perform the same within their respective sports**. How I would like to see this explored is with a series of paired t-tests (so use [`ttest_rel`](https://docs.scipy.org/doc/scipy/reference/generated/scipy.stats.ttest_rel.html)) between all pairs of sports. Are there any sports where we can reject the null hypothesis? Again, average values where a sport has multiple teams in one region. Remember, you will only be including, for each sport, cities which have teams engaged in that sport, drop others as appropriate. This question is worth 20% of the grade for this assignment."
   ]
  },
  {
   "cell_type": "code",
   "execution_count": null,
   "metadata": {
    "deletable": false,
    "nbgrader": {
     "checksum": "6d78c961eb66f8d8c81f06d33ae8f393",
     "grade": false,
     "grade_id": "cell-92f25f44b8d1179f",
     "locked": false,
     "schema_version": 1,
     "solution": true
    }
   },
   "outputs": [],
   "source": [
    "prep()\n",
    "\n",
    "def sports_team_performance():\n",
    "    sports = ['NFL', 'NBA', 'NHL', 'MLB']\n",
    "    p_values = pd.DataFrame({k:np.nan for k in sports}, index=sports)\n",
    "    \n",
    "    df = pd.concat([calc(mlb),calc(nhl),calc(nfl),calc(nba)], ignore_index=True)\n",
    "\n",
    "    for x in sports:\n",
    "        for y in sports:\n",
    "            if x != y:\n",
    "                dd = pd.merge(df[df['League']==x].drop(columns=['Population','League']),df[df['League']==y].drop(columns=['Population','League']), how=\"inner\", left_on='Metropolitan area', right_on='Metropolitan area')\n",
    "                p_values.loc[x,y]=stats.ttest_rel(dd['W/L_x'], dd['W/L_y'])[1]\n",
    "    \n",
    "    assert abs(p_values.loc[\"NBA\", \"NHL\"] - 0.02) <= 1e-2, \"The NBA-NHL p-value should be around 0.02\"\n",
    "    assert abs(p_values.loc[\"MLB\", \"NFL\"] - 0.80) <= 1e-2, \"The MLB-NFL p-value should be around 0.80\"\n",
    "    return p_values"
   ]
  },
  {
   "cell_type": "code",
   "execution_count": null,
   "metadata": {
    "deletable": false,
    "editable": false,
    "nbgrader": {
     "checksum": "2a596ab421a45cc01168d10e8fbb8f89",
     "grade": true,
     "grade_id": "cell-fb4b9cb5ff4570a6",
     "locked": true,
     "points": 20,
     "schema_version": 1,
     "solution": false
    }
   },
   "outputs": [],
   "source": []
  }
 ],
 "metadata": {
  "coursera": {
   "schema_names": [
    "mooc_adswpy_1_v2_assignment4"
   ]
  },
  "kernelspec": {
   "display_name": "Python 3",
   "language": "python",
   "name": "python3"
  },
  "language_info": {
   "codemirror_mode": {
    "name": "ipython",
    "version": 3
   },
   "file_extension": ".py",
   "mimetype": "text/x-python",
   "name": "python",
   "nbconvert_exporter": "python",
   "pygments_lexer": "ipython3",
   "version": "3.7.3"
  }
 },
 "nbformat": 4,
 "nbformat_minor": 4
}
